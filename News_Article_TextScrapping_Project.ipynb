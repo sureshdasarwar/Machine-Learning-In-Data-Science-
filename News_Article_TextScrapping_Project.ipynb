{
 "cells": [
  {
   "cell_type": "markdown",
   "metadata": {},
   "source": [
    "# News Article Text Scrapping and Applying Machine Learning Algorithms \n",
    "\n",
    "## Data Science using the Machine Learning Classifiers \n",
    "\n",
    "### finding the Accuracy of the Supervised Learning Algorithms and discussing the report on  the same"
   ]
  },
  {
   "cell_type": "markdown",
   "metadata": {},
   "source": [
    "## Part 1. Data Collection \n",
    "\n",
    "### Tasks :\n",
    "\n",
    "1) To collect the Labelled News Corpus by identifying the URLs and its respective category labels by using the below link.\n",
    "\n",
    "http://mlg.ucd.ie/modules/COMP41680/archive/index.html\n",
    "\n",
    "2) To Retrive the all the web pages and extract the main body text containing the news contents. Store the each category labels for all the news atricles."
   ]
  },
  {
   "cell_type": "code",
   "execution_count": 1,
   "metadata": {},
   "outputs": [
    {
     "data": {
      "text/plain": [
       "<Response [200]>"
      ]
     },
     "execution_count": 1,
     "metadata": {},
     "output_type": "execute_result"
    }
   ],
   "source": [
    "import requests\n",
    "import re\n",
    "\n",
    "pagelink = requests.get(\"http://mlg.ucd.ie/modules/COMP41680/archive/index.html\")\n",
    "pagelink\n"
   ]
  },
  {
   "cell_type": "code",
   "execution_count": 2,
   "metadata": {
    "collapsed": true
   },
   "outputs": [],
   "source": [
    "from pprint import pprint\n",
    "import pandas as pd\n"
   ]
  },
  {
   "cell_type": "code",
   "execution_count": 3,
   "metadata": {},
   "outputs": [
    {
     "data": {
      "text/plain": [
       "200"
      ]
     },
     "execution_count": 3,
     "metadata": {},
     "output_type": "execute_result"
    }
   ],
   "source": [
    "pagelink.status_code   # Status code is 200 it means the webpage is responsive "
   ]
  },
  {
   "cell_type": "code",
   "execution_count": 4,
   "metadata": {},
   "outputs": [
    {
     "name": "stdout",
     "output_type": "stream",
     "text": [
      "<!DOCTYPE html>\n",
      "<html lang=\"en\">\n",
      " <head>\n",
      "  <!-- Note: This data is made only available for educational purposes for use COMP41680 Assignment 2 -->\n",
      "  <title>\n",
      "   Online News Archive\n",
      "  </title>\n",
      "  <meta charset=\"utf-8\"/>\n",
      "  <meta content=\"width=device-width, initial-scale=1\" name=\"viewport\"/>\n",
      "  <meta content=\"noindex\" name=\"robots\"/>\n",
      "  <meta content=\"news,articles,news\" name=\"keywords\">\n",
      "   <link href=\"http://www.insight-centre.org/sites/all/themes/bootstrap_insight/favicon.ico\" rel=\"shortcut icon\" type=\"image/vnd.microsoft.icon\"/>\n",
      "   <meta content=\"Breaking News | International Headlines\" property=\"og:title\"/>\n",
      "   <meta content=\"News Archive\" property=\"og:site_name\"/>\n",
      "   <meta content=\"Latest news and more from the definitive brand of quality news.\" property=\"og:description\"/>\n",
      "   <link href=\"css/bootstrap.min.css\" rel=\"stylesheet\"/>\n",
      "   <script src=\"js/bootstrap.min.js\">\n",
      "   </script>\n",
      "   <style>\n",
      "    .main{ padding: 0; text-align: center;}\n",
      "\t  \t\t.footer{ padding: 6px;text-align: center; margin-top: 1em; }\n",
      "\n",
      "\t  \t\th1\n",
      "\t  \t\t{\n",
      "\t  \t\t\tfont-size: 180%;\n",
      "\t  \t\t\tmargin-top: 15px;\n",
      "\t  \t\t\tmargin-bottom: 15px;\n",
      "\t  \t\t}\n",
      "\t  \t\tul {list-style-type: none;}\n",
      "\t  \t\tli { margin-top: 5px; }\n",
      "   </style>\n",
      "  </meta>\n",
      " </head>\n",
      " <body>\n",
      "  <div class=\"container\" style=\"margin-top: 2em;\">\n",
      "   <div class=\"main\">\n",
      "    <img alt=\"banner\" src=\"images/banner.jpg\" width=\"500\"/>\n",
      "    <h1>\n",
      "     News Article Archive\n",
      "    </h1>\n",
      "    <p>\n",
      "     Archive of all news headlines and stories, organised per month.\n",
      "    </p>\n",
      "    <ul>\n",
      "     <li>\n",
      "      Articles —\n",
      "      <a href=\"month-jan-2017.html\">\n",
      "       January\n",
      "      </a>\n",
      "      [118]\n",
      "     </li>\n",
      "     <li>\n",
      "      Articles —\n",
      "      <a href=\"month-feb-2017.html\">\n",
      "       February\n",
      "      </a>\n",
      "      [124]\n",
      "     </li>\n",
      "     <li>\n",
      "      Articles —\n",
      "      <a href=\"month-mar-2017.html\">\n",
      "       March\n",
      "      </a>\n",
      "      [116]\n",
      "     </li>\n",
      "     <li>\n",
      "      Articles —\n",
      "      <a href=\"month-apr-2017.html\">\n",
      "       April\n",
      "      </a>\n",
      "      [118]\n",
      "     </li>\n",
      "     <li>\n",
      "      Articles —\n",
      "      <a href=\"month-may-2017.html\">\n",
      "       May\n",
      "      </a>\n",
      "      [115]\n",
      "     </li>\n",
      "     <li>\n",
      "      Articles —\n",
      "      <a href=\"month-jun-2017.html\">\n",
      "       June\n",
      "      </a>\n",
      "      [115]\n",
      "     </li>\n",
      "     <li>\n",
      "      Articles —\n",
      "      <a href=\"month-jul-2017.html\">\n",
      "       July\n",
      "      </a>\n",
      "      [122]\n",
      "     </li>\n",
      "     <li>\n",
      "      Articles —\n",
      "      <a href=\"month-aug-2017.html\">\n",
      "       August\n",
      "      </a>\n",
      "      [116]\n",
      "     </li>\n",
      "     <li>\n",
      "      Articles —\n",
      "      <a href=\"month-sep-2017.html\">\n",
      "       September\n",
      "      </a>\n",
      "      [113]\n",
      "     </li>\n",
      "     <li>\n",
      "      Articles —\n",
      "      <a href=\"month-oct-2017.html\">\n",
      "       October\n",
      "      </a>\n",
      "      [124]\n",
      "     </li>\n",
      "     <li>\n",
      "      Articles —\n",
      "      <a href=\"month-nov-2017.html\">\n",
      "       November\n",
      "      </a>\n",
      "      [122]\n",
      "     </li>\n",
      "     <li>\n",
      "      Articles —\n",
      "      <a href=\"month-dec-2017.html\">\n",
      "       December\n",
      "      </a>\n",
      "      [115]\n",
      "     </li>\n",
      "    </ul>\n",
      "   </div>\n",
      "   <div class=\"footer\">\n",
      "    <span>\n",
      "     <a href=\"\">\n",
      "      Terms &amp; Conditions\n",
      "     </a>\n",
      "     |\n",
      "     <a href=\"\">\n",
      "      Privacy Policy\n",
      "     </a>\n",
      "     |\n",
      "     <a href=\"\">\n",
      "      Cookie Information\n",
      "     </a>\n",
      "    </span>\n",
      "    <br/>\n",
      "    <span>\n",
      "     ©\n",
      "     <span class=\"thisyear\">\n",
      "      2017\n",
      "     </span>\n",
      "     — Original rights holders\n",
      "    </span>\n",
      "   </div>\n",
      "  </div>\n",
      " </body>\n",
      "</html>\n",
      "\n"
     ]
    }
   ],
   "source": [
    "from bs4 import BeautifulSoup      # importing the bs4 and\n",
    "soup = BeautifulSoup(pagelink.content, 'html.parser')  # using the html parser \n",
    "print(soup.prettify())"
   ]
  },
  {
   "cell_type": "markdown",
   "metadata": {},
   "source": [
    "## Extracting the news content for one month \n",
    "\n",
    "Since the URLs are nested and its been quite complex to extract the news contents and its respective labels, so here I have given a try for the january month news articles.\n",
    "\n",
    "<br>\n",
    "Here I have created the dataframe with cloumn News and Label so that I can store the content and its label sequentially or to maintaon the mapping between the news article and its label. "
   ]
  },
  {
   "cell_type": "code",
   "execution_count": 5,
   "metadata": {},
   "outputs": [
    {
     "data": {
      "text/html": [
       "<div>\n",
       "<style>\n",
       "    .dataframe thead tr:only-child th {\n",
       "        text-align: right;\n",
       "    }\n",
       "\n",
       "    .dataframe thead th {\n",
       "        text-align: left;\n",
       "    }\n",
       "\n",
       "    .dataframe tbody tr th {\n",
       "        vertical-align: top;\n",
       "    }\n",
       "</style>\n",
       "<table border=\"1\" class=\"dataframe\">\n",
       "  <thead>\n",
       "    <tr style=\"text-align: right;\">\n",
       "      <th></th>\n",
       "      <th>News</th>\n",
       "      <th>Label</th>\n",
       "    </tr>\n",
       "  </thead>\n",
       "  <tbody>\n",
       "    <tr>\n",
       "      <th>0</th>\n",
       "      <td>None The sporting industry has come a long way...</td>\n",
       "      <td>technology</td>\n",
       "    </tr>\n",
       "    <tr>\n",
       "      <th>1</th>\n",
       "      <td>Asian quake hits European shares None Shares i...</td>\n",
       "      <td>business</td>\n",
       "    </tr>\n",
       "    <tr>\n",
       "      <th>2</th>\n",
       "      <td>None BT is offering customers free internet te...</td>\n",
       "      <td>technology</td>\n",
       "    </tr>\n",
       "    <tr>\n",
       "      <th>3</th>\n",
       "      <td>Barclays shares up on merger talk None Shares ...</td>\n",
       "      <td>business</td>\n",
       "    </tr>\n",
       "    <tr>\n",
       "      <th>4</th>\n",
       "      <td>None None None None None None Comments are clo...</td>\n",
       "      <td>sport</td>\n",
       "    </tr>\n",
       "    <tr>\n",
       "      <th>5</th>\n",
       "      <td>Bellamy under new fire None Newcastle boss Gra...</td>\n",
       "      <td>sport</td>\n",
       "    </tr>\n",
       "    <tr>\n",
       "      <th>6</th>\n",
       "      <td>Benitez 'to launch Morientes bid' None Liverpo...</td>\n",
       "      <td>sport</td>\n",
       "    </tr>\n",
       "    <tr>\n",
       "      <th>7</th>\n",
       "      <td>None Liverpool manager Rafael Benitez admitted...</td>\n",
       "      <td>sport</td>\n",
       "    </tr>\n",
       "    <tr>\n",
       "      <th>8</th>\n",
       "      <td>None The arrival of new titles in the popular ...</td>\n",
       "      <td>technology</td>\n",
       "    </tr>\n",
       "    <tr>\n",
       "      <th>9</th>\n",
       "      <td>None Visitors to the British Library will be a...</td>\n",
       "      <td>technology</td>\n",
       "    </tr>\n",
       "  </tbody>\n",
       "</table>\n",
       "</div>"
      ],
      "text/plain": [
       "                                                News        Label\n",
       "0  None The sporting industry has come a long way...   technology\n",
       "1  Asian quake hits European shares None Shares i...     business\n",
       "2  None BT is offering customers free internet te...   technology\n",
       "3  Barclays shares up on merger talk None Shares ...     business\n",
       "4  None None None None None None Comments are clo...        sport\n",
       "5  Bellamy under new fire None Newcastle boss Gra...        sport\n",
       "6  Benitez 'to launch Morientes bid' None Liverpo...        sport\n",
       "7  None Liverpool manager Rafael Benitez admitted...        sport\n",
       "8  None The arrival of new titles in the popular ...   technology\n",
       "9  None Visitors to the British Library will be a...   technology"
      ]
     },
     "execution_count": 5,
     "metadata": {},
     "output_type": "execute_result"
    }
   ],
   "source": [
    "url = \"http://mlg.ucd.ie/modules/COMP41680/archive/month-jan-2017.html\"\n",
    "pagelink = requests.get(url)\n",
    "soup = BeautifulSoup(pagelink.text, 'lxml')\n",
    "table = soup.find('table')\n",
    "df = pd.DataFrame(columns=[\"News\",\"Label\"])     # creating the dataframe \n",
    "\n",
    "root_url = \"http://mlg.ucd.ie/modules/COMP41680/archive/\"\n",
    "i=0\n",
    "for tr in table.find_all('tr'):       # using for loop in all tr tag    \n",
    "    \n",
    "    data = tr.find(\"td\").text      # geting the td tag from table to get label\n",
    "    #print(data)\n",
    "    #label = tr.find(class_='category')\n",
    "    #print(h)\n",
    "    if tr.a:\n",
    "        html = requests.get(root_url + tr.a['href'])   # concatenating with the base url to go to article.html link\n",
    "        article_soup = BeautifulSoup(html.text, 'lxml')\n",
    "        #print(article_soup.get_text())\n",
    "        #print(article_soup.find(class_='main').get_text())\n",
    "        text = ' '.join([str(para.string) for para in article_soup.find_all('p')])  # since the news content is in p tag\n",
    "        df.loc[i] = (text,data)                                                     # so used for loop and got main text\n",
    "        i+=1\n",
    "\n",
    "df.head(10)   # for sample first few news with its label \n"
   ]
  },
  {
   "cell_type": "markdown",
   "metadata": {},
   "source": [
    "## Now Extracting the News contents for whole year data \n",
    "<br> \n",
    "__Here I have extracted the news content its respective label for the whole year. Since the links for the every month\n",
    "is stored in the 'ul' tag so, I find the ul tag first and then its class 'a' that is anchor tag.  The syntax which I have used for getting the news content for month is used but I have made changes accordingly.__ "
   ]
  },
  {
   "cell_type": "code",
   "execution_count": 6,
   "metadata": {},
   "outputs": [
    {
     "data": {
      "text/html": [
       "<div>\n",
       "<style>\n",
       "    .dataframe thead tr:only-child th {\n",
       "        text-align: right;\n",
       "    }\n",
       "\n",
       "    .dataframe thead th {\n",
       "        text-align: left;\n",
       "    }\n",
       "\n",
       "    .dataframe tbody tr th {\n",
       "        vertical-align: top;\n",
       "    }\n",
       "</style>\n",
       "<table border=\"1\" class=\"dataframe\">\n",
       "  <thead>\n",
       "    <tr style=\"text-align: right;\">\n",
       "      <th></th>\n",
       "      <th>News</th>\n",
       "      <th>Label</th>\n",
       "    </tr>\n",
       "  </thead>\n",
       "  <tbody>\n",
       "    <tr>\n",
       "      <th>0</th>\n",
       "      <td>None The sporting industry has come a long way...</td>\n",
       "      <td>technology</td>\n",
       "    </tr>\n",
       "    <tr>\n",
       "      <th>1</th>\n",
       "      <td>Asian quake hits European shares None Shares i...</td>\n",
       "      <td>business</td>\n",
       "    </tr>\n",
       "    <tr>\n",
       "      <th>2</th>\n",
       "      <td>None BT is offering customers free internet te...</td>\n",
       "      <td>technology</td>\n",
       "    </tr>\n",
       "    <tr>\n",
       "      <th>3</th>\n",
       "      <td>Barclays shares up on merger talk None Shares ...</td>\n",
       "      <td>business</td>\n",
       "    </tr>\n",
       "    <tr>\n",
       "      <th>4</th>\n",
       "      <td>None None None None None None Comments are clo...</td>\n",
       "      <td>sport</td>\n",
       "    </tr>\n",
       "    <tr>\n",
       "      <th>5</th>\n",
       "      <td>Bellamy under new fire None Newcastle boss Gra...</td>\n",
       "      <td>sport</td>\n",
       "    </tr>\n",
       "    <tr>\n",
       "      <th>6</th>\n",
       "      <td>Benitez 'to launch Morientes bid' None Liverpo...</td>\n",
       "      <td>sport</td>\n",
       "    </tr>\n",
       "    <tr>\n",
       "      <th>7</th>\n",
       "      <td>None Liverpool manager Rafael Benitez admitted...</td>\n",
       "      <td>sport</td>\n",
       "    </tr>\n",
       "    <tr>\n",
       "      <th>8</th>\n",
       "      <td>None The arrival of new titles in the popular ...</td>\n",
       "      <td>technology</td>\n",
       "    </tr>\n",
       "    <tr>\n",
       "      <th>9</th>\n",
       "      <td>None Visitors to the British Library will be a...</td>\n",
       "      <td>technology</td>\n",
       "    </tr>\n",
       "    <tr>\n",
       "      <th>10</th>\n",
       "      <td>None Ballymena sprinter Paul Brizzel will be a...</td>\n",
       "      <td>sport</td>\n",
       "    </tr>\n",
       "    <tr>\n",
       "      <th>11</th>\n",
       "      <td>Bush budget seeks deep cutbacks None President...</td>\n",
       "      <td>business</td>\n",
       "    </tr>\n",
       "    <tr>\n",
       "      <th>12</th>\n",
       "      <td>Bush to get 'tough' on deficit None US preside...</td>\n",
       "      <td>business</td>\n",
       "    </tr>\n",
       "    <tr>\n",
       "      <th>13</th>\n",
       "      <td>Cable offers video-on-demand None Cable firms ...</td>\n",
       "      <td>technology</td>\n",
       "    </tr>\n",
       "    <tr>\n",
       "      <th>14</th>\n",
       "      <td>None Gadgets are cheaper, smaller and more com...</td>\n",
       "      <td>technology</td>\n",
       "    </tr>\n",
       "    <tr>\n",
       "      <th>15</th>\n",
       "      <td>Camera phones are 'must-haves' None Four times...</td>\n",
       "      <td>technology</td>\n",
       "    </tr>\n",
       "    <tr>\n",
       "      <th>16</th>\n",
       "      <td>Card fraudsters 'targeting web' None New safeg...</td>\n",
       "      <td>business</td>\n",
       "    </tr>\n",
       "    <tr>\n",
       "      <th>17</th>\n",
       "      <td>Cash gives way to flexible friend None Spendin...</td>\n",
       "      <td>business</td>\n",
       "    </tr>\n",
       "    <tr>\n",
       "      <th>18</th>\n",
       "      <td>None Cebit, the world's largest hi-tech fair, ...</td>\n",
       "      <td>technology</td>\n",
       "    </tr>\n",
       "    <tr>\n",
       "      <th>19</th>\n",
       "      <td>None Flanker Colin Charvis is unlikely to play...</td>\n",
       "      <td>sport</td>\n",
       "    </tr>\n",
       "  </tbody>\n",
       "</table>\n",
       "</div>"
      ],
      "text/plain": [
       "                                                 News        Label\n",
       "0   None The sporting industry has come a long way...   technology\n",
       "1   Asian quake hits European shares None Shares i...     business\n",
       "2   None BT is offering customers free internet te...   technology\n",
       "3   Barclays shares up on merger talk None Shares ...     business\n",
       "4   None None None None None None Comments are clo...        sport\n",
       "5   Bellamy under new fire None Newcastle boss Gra...        sport\n",
       "6   Benitez 'to launch Morientes bid' None Liverpo...        sport\n",
       "7   None Liverpool manager Rafael Benitez admitted...        sport\n",
       "8   None The arrival of new titles in the popular ...   technology\n",
       "9   None Visitors to the British Library will be a...   technology\n",
       "10  None Ballymena sprinter Paul Brizzel will be a...        sport\n",
       "11  Bush budget seeks deep cutbacks None President...     business\n",
       "12  Bush to get 'tough' on deficit None US preside...     business\n",
       "13  Cable offers video-on-demand None Cable firms ...   technology\n",
       "14  None Gadgets are cheaper, smaller and more com...   technology\n",
       "15  Camera phones are 'must-haves' None Four times...   technology\n",
       "16  Card fraudsters 'targeting web' None New safeg...     business\n",
       "17  Cash gives way to flexible friend None Spendin...     business\n",
       "18  None Cebit, the world's largest hi-tech fair, ...   technology\n",
       "19  None Flanker Colin Charvis is unlikely to play...        sport"
      ]
     },
     "execution_count": 6,
     "metadata": {},
     "output_type": "execute_result"
    }
   ],
   "source": [
    "url = \"http://mlg.ucd.ie/modules/COMP41680/archive/\"     # Base url from which we can redirect to other links\n",
    "pagelink = requests.get(url)\n",
    "soup = BeautifulSoup(pagelink.text, 'lxml')\n",
    "\n",
    "list_item = soup.find('ul')        # getting the ul tag \n",
    "\n",
    "dict = {}\n",
    "l = []\n",
    "i=0\n",
    "for item in list_item.find_all('a'):    # finding the anchor tag \n",
    "    \n",
    "    d = item.attrs                      # getting the attribute of the a tag\n",
    "    for k,v in d.items():\n",
    "        #print(v)\n",
    "        l.append(url + v)               # appending the article link \n",
    "        #print(url + tr.a['href'])\n",
    "        #print(html)\n",
    "        html = requests.get(url + v)    # sending again the new request with new url that is base + article\n",
    "        new_url = url + v         \n",
    "        pagelink = requests.get(new_url)\n",
    "        soup = BeautifulSoup(pagelink.text, 'lxml')\n",
    "        tables = soup.find('table')      # finding the table tag tag to get tr and td\n",
    "        for tr in tables.find_all('tr'):\n",
    "            \n",
    "            heading = tr.find(\"td\").text      # heading has labels stored for every article \n",
    "            if tr.a:\n",
    "                next_url = requests.get(url + tr.a['href'])\n",
    "                article_soup = BeautifulSoup(next_url.text, 'lxml')\n",
    "                text = ' '.join([str(para.string) for para in article_soup.find_all('p')])\n",
    "                #print(text)\n",
    "                df.loc[i] = (text,heading)\n",
    "                i+=1\n",
    "    \n",
    "df.head(n=20)"
   ]
  },
  {
   "cell_type": "code",
   "execution_count": 7,
   "metadata": {},
   "outputs": [
    {
     "data": {
      "text/plain": [
       "1408"
      ]
     },
     "execution_count": 7,
     "metadata": {},
     "output_type": "execute_result"
    }
   ],
   "source": [
    "len(df)  # to check we have collected the total number of news from all the months "
   ]
  },
  {
   "cell_type": "markdown",
   "metadata": {},
   "source": [
    "**Once I have the data in pandas dataframe we can write them into a CSV file here I have stored the News articles in newsfile.csv and its category in labelfile.csv**"
   ]
  },
  {
   "cell_type": "code",
   "execution_count": 8,
   "metadata": {
    "collapsed": true
   },
   "outputs": [],
   "source": [
    "df.to_csv('newsfile.csv', index=False, header=False, columns=['News'])\n",
    "df.to_csv('labelfile.csv', index=False, header=False, columns=['Label'])"
   ]
  },
  {
   "cell_type": "markdown",
   "metadata": {},
   "source": [
    "** Now I  have the news atricles with its content in seperate file and its lable in other file, now getting the Newsfile to \n",
    "do some text preprocessing on the same. **"
   ]
  },
  {
   "cell_type": "code",
   "execution_count": 10,
   "metadata": {},
   "outputs": [
    {
     "name": "stdout",
     "output_type": "stream",
     "text": [
      "Read 1408 raw text documents from the file\n"
     ]
    }
   ],
   "source": [
    "file_in = open(\"newsfile.csv\",\"r\")\n",
    "raw_docs = file_in.readlines()\n",
    "file_in.close()\n",
    "print(\"Read %d raw text documents from the file\" % len(raw_docs))"
   ]
  },
  {
   "cell_type": "markdown",
   "metadata": {},
   "source": [
    "# Part 2. Text Preprocessing \n",
    "\n",
    "## Tokenizing the text"
   ]
  },
  {
   "cell_type": "markdown",
   "metadata": {},
   "source": [
    "When we have the raw document we can tokenize the document, since the raw data is not numeric its in textual format so\n",
    "here we have to tokenize the documents to analyse the text. \n",
    "<br>\n",
    "We can use the built-in scikit-learn tokenizer to split the documents into tokens, lets work with one document for smaple and then apply on whole. "
   ]
  },
  {
   "cell_type": "code",
   "execution_count": 18,
   "metadata": {},
   "outputs": [
    {
     "name": "stdout",
     "output_type": "stream",
     "text": [
      "\"None The sporting industry has come a long way since the â??60s. It has carved out for itself a niche with its roots so deep that I cannot fathom the sports industry showing any sign of decline any time soon - or later. None The reason can be found in this seemingly subtle difference - other industries have customers; the sporting industry has fans. Vivek RanadivÃ©, leader of the ownership group of the NBAâ??s Sacramento Kings, explained it beautifully, â??Fans will paint their face purple, fan\n"
     ]
    }
   ],
   "source": [
    "doc1 = raw_docs[0]\n",
    "print(doc1[0:500])   # print the few 500 lines from docs"
   ]
  },
  {
   "cell_type": "code",
   "execution_count": 19,
   "metadata": {},
   "outputs": [
    {
     "name": "stdout",
     "output_type": "stream",
     "text": [
      "['none', 'the', 'sporting', 'industry', 'has', 'come', 'long', 'way', 'since', 'the', '60s', 'it', 'has', 'carved', 'out', 'for', 'itself', 'niche', 'with', 'its', 'roots', 'so', 'deep', 'that', 'cannot', 'fathom', 'the', 'sports', 'industry', 'showing', 'any', 'sign', 'of', 'decline', 'any', 'time', 'soon', 'or', 'later', 'none', 'the', 'reason', 'can', 'be', 'found', 'in', 'this', 'seemingly', 'subtle', 'difference', 'other', 'industries', 'have', 'customers', 'the', 'sporting', 'industry', 'has', 'fans', 'vivek', 'ranadivã', 'leader', 'of', 'the', 'ownership', 'group', 'of', 'the', 'nbaâ', 'sacramento', 'kings', 'explained', 'it', 'beautifully', 'fans', 'will', 'paint', 'their', 'face', 'purple', 'fans', 'will', 'evangelize', 'every', 'other', 'ceo', 'in', 'every', 'business', 'is', 'dying', 'to', 'be', 'in', 'our', 'position', 'theyâ', 're', 'dying', 'to', 'have', 'fans', 'none', 'while', 'fan', 'passion', 'alone', 'could', 'almost', 'certainly', 'keep', 'the', 'industry', 'going', 'leagues', 'and', 'sporting', 'franchises', 'have', 'decided', 'not', 'to', 'rest', 'on', 'their', 'laurels', 'the', 'last', 'few', 'years', 'have', 'seen', 'the', 'steady', 'introduction', 'of', 'technology', 'into', 'the', 'world', 'of', 'sports', 'amplifying', 'fansâ', 'appreciation', 'of', 'games', 'enhancing', 'athletesâ', 'public', 'profiles', 'and', 'informing', 'their', 'training', 'methods', 'even', 'influencing', 'how', 'contests', 'are', 'waged', 'none', 'also', 'digital', 'technology', 'in', 'particular', 'has', 'helped', 'to', 'create', 'an', 'alternative', 'source', 'of', 'revenue', 'besides', 'the', 'games', 'themselves', 'corporate', 'sponsorship', 'they', 'achieved', 'this', 'by', 'capitalizing', 'on', 'the', 'ardor', 'of', 'their', 'customer', 'base', 'sorry', 'fan', 'base', 'return', 'to', 'article', 'search', 'results']\n"
     ]
    }
   ],
   "source": [
    "from sklearn.feature_extraction.text import CountVectorizer\n",
    "tokenize = CountVectorizer().build_tokenizer()\n",
    "# First convert to lowercase, then tokenize\n",
    "tokens1 = tokenize(doc1.lower())\n",
    "print(tokens1)"
   ]
  },
  {
   "cell_type": "markdown",
   "metadata": {},
   "source": [
    "## Removing the Stopwords "
   ]
  },
  {
   "cell_type": "markdown",
   "metadata": {},
   "source": [
    "Stopwords are those words which are conjective, connecting, joining, pronoun etc. these words doesnt make any sense \n",
    "while in the process of text processing so we have to remove them from the corpus so that the analysed data gives more \n",
    "correct values.\n",
    "<br>\n",
    "To this task the sklearn has the built-in package called featureExtraction using which we can remove the stop words from the  corpus."
   ]
  },
  {
   "cell_type": "code",
   "execution_count": 20,
   "metadata": {},
   "outputs": [
    {
     "name": "stdout",
     "output_type": "stream",
     "text": [
      "['sporting', 'industry', 'come', 'long', 'way', '60s', 'carved', 'niche', 'roots', 'deep', 'fathom', 'sports', 'industry', 'showing', 'sign', 'decline', 'time', 'soon', 'later', 'reason', 'seemingly', 'subtle', 'difference', 'industries', 'customers', 'sporting', 'industry', 'fans', 'vivek', 'ranadivã', 'leader', 'ownership', 'group', 'nbaâ', 'sacramento', 'kings', 'explained', 'beautifully', 'fans', 'paint', 'face', 'purple', 'fans', 'evangelize', 'ceo', 'business', 'dying', 'position', 'theyâ', 'dying', 'fans', 'fan', 'passion', 'certainly', 'industry', 'going', 'leagues', 'sporting', 'franchises', 'decided', 'rest', 'laurels', 'years', 'seen', 'steady', 'introduction', 'technology', 'world', 'sports', 'amplifying', 'fansâ', 'appreciation', 'games', 'enhancing', 'athletesâ', 'public', 'profiles', 'informing', 'training', 'methods', 'influencing', 'contests', 'waged', 'digital', 'technology', 'particular', 'helped', 'create', 'alternative', 'source', 'revenue', 'games', 'corporate', 'sponsorship', 'achieved', 'capitalizing', 'ardor', 'customer', 'base', 'sorry', 'fan', 'base', 'return', 'article', 'search', 'results']\n"
     ]
    }
   ],
   "source": [
    "from sklearn.feature_extraction import text\n",
    "stopwords = text.ENGLISH_STOP_WORDS\n",
    "filtered_tokens1 = []\n",
    "for token in tokens1:\n",
    "    if not token in stopwords:\n",
    "        filtered_tokens1.append(token)\n",
    "print(filtered_tokens1)"
   ]
  },
  {
   "cell_type": "markdown",
   "metadata": {},
   "source": [
    "** Since we have removed stopwords and applied tokenization on one document we have process these on all the news documnets \n",
    "we can do this by using below code snippet**"
   ]
  },
  {
   "cell_type": "code",
   "execution_count": 22,
   "metadata": {},
   "outputs": [
    {
     "name": "stdout",
     "output_type": "stream",
     "text": [
      "Total 1408 filtered tokens lists has been created\n"
     ]
    }
   ],
   "source": [
    "all_filtered_tokens = []\n",
    "for doc in raw_docs:\n",
    "    # tokenize the next document\n",
    "    tokens = tokenize(doc.lower())\n",
    "    # remove the stopwords\n",
    "    filtered_tokens = []\n",
    "    for token in tokens:\n",
    "        if not token in stopwords:\n",
    "            filtered_tokens.append(token)  \n",
    "    # add to the overall list\n",
    "    all_filtered_tokens.append( filtered_tokens )\n",
    "print(\"Total %d filtered tokens lists has been created\" % len(all_filtered_tokens) )"
   ]
  },
  {
   "cell_type": "markdown",
   "metadata": {},
   "source": [
    "## Counting the Tokens in the corpus"
   ]
  },
  {
   "cell_type": "markdown",
   "metadata": {},
   "source": [
    "***Sicne we have calculated the token lists above now to calculate the term frequency of each word***"
   ]
  },
  {
   "cell_type": "code",
   "execution_count": 23,
   "metadata": {},
   "outputs": [
    {
     "name": "stdout",
     "output_type": "stream",
     "text": [
      "Found 21938 unique terms in this corpus\n"
     ]
    }
   ],
   "source": [
    "counts = {}\n",
    "# process filtered tokens for each document\n",
    "for doc_tokens in all_filtered_tokens:\n",
    "    for token in doc_tokens:\n",
    "        \n",
    "        if token in counts:\n",
    "            counts[token] += 1  #incrementing the token count \n",
    "        \n",
    "        else:\n",
    "            counts[token] = 1\n",
    "print(\"Found %d unique terms in this corpus\" % len(counts))"
   ]
  },
  {
   "cell_type": "markdown",
   "metadata": {},
   "source": [
    "**we can find the highest count in the dictionary of a particular word from the corpus using the operator library lets give a try for first 20 words which havs highest count in the whole document corpus**"
   ]
  },
  {
   "cell_type": "code",
   "execution_count": 35,
   "metadata": {},
   "outputs": [
    {
     "name": "stdout",
     "output_type": "stream",
     "text": [
      "said (count=3881)\n",
      "year (count=1428)\n",
      "article (count=1365)\n",
      "people (count=1170)\n",
      "new (count=1124)\n",
      "mr (count=1083)\n",
      "world (count=870)\n",
      "time (count=834)\n",
      "search (count=825)\n",
      "closed (count=794)\n",
      "comments (count=787)\n",
      "return (count=759)\n",
      "results (count=738)\n",
      "game (count=722)\n",
      "news (count=719)\n",
      "online (count=685)\n",
      "market (count=625)\n",
      "just (count=610)\n",
      "company (count=590)\n",
      "like (count=584)\n"
     ]
    }
   ],
   "source": [
    "import operator\n",
    "sorted_counts = sorted(counts.items(), key=operator.itemgetter(1), reverse=True)\n",
    "for i in range(20):\n",
    "    term = sorted_counts[i][0]\n",
    "    count = sorted_counts[i][1]\n",
    "    print( \"%s (count=%d)\" % ( term, count )  )"
   ]
  },
  {
   "cell_type": "markdown",
   "metadata": {},
   "source": [
    "## Bag-of-Words Representation"
   ]
  },
  {
   "cell_type": "markdown",
   "metadata": {},
   "source": [
    "In the BOW model each document in the corpus is represented as vector in the m dimensional coordinate space here m is the \n",
    "unique word from corpus, and this set of terms is called corpus vocabulary. \n",
    "<br>\n",
    "Since they are represented as term vector so the original term positioning is lost in this model we can make the full document term matrix using these vectors. This process also build the vocabulary for the corpus in the form of list and dict"
   ]
  },
  {
   "cell_type": "code",
   "execution_count": 31,
   "metadata": {},
   "outputs": [
    {
     "name": "stdout",
     "output_type": "stream",
     "text": [
      "(1408, 22230)\n",
      "Vocabulary has 22230 distinct terms\n"
     ]
    }
   ],
   "source": [
    "from sklearn.feature_extraction.text import CountVectorizer\n",
    "vectorizer = CountVectorizer()\n",
    "bow = vectorizer.fit_transform(raw_docs)\n",
    "print(bow.shape)\n",
    "\n",
    "terms = vectorizer.get_feature_names()\n",
    "vocab = vectorizer.vocabulary_\n",
    "print(\"Vocabulary has %d distinct terms\" % len(terms))"
   ]
  },
  {
   "cell_type": "code",
   "execution_count": 33,
   "metadata": {},
   "outputs": [
    {
     "name": "stdout",
     "output_type": "stream",
     "text": [
      "['advantage', 'advantages', 'advent', 'adventure', 'adventuring', 'adventurous', 'adverse', 'adversity', 'advert', 'advertise', 'advertised', 'advertisements', 'advertiser', 'advertisers', 'advertising', 'adverts', 'advice', 'advise', 'advised', 'adviser', 'advisers', 'advises', 'advising', 'advisor', 'advisors', 'advisory', 'advocate', 'advocated', 'advocates', 'advsr', 'adware', 'ae', 'aefa', 'aeg', 'aer', 'aero', 'aerodynamic', 'aeronautics', 'aerospace', 'aerow', 'aesthetic', 'aesthetically', 'aesthetics', 'affable', 'affair', 'affairs', 'affect', 'affected', 'affecting', 'affection', 'affects', 'afficiandos', 'affiliate', 'affiliated', 'afflict', 'afflicted', 'afflicting', 'affluent', 'afford', 'affordability', 'affordable', 'afforded', 'afful', 'afghanistan', 'afield', 'afoot', 'afp', 'afraid', 'africa', 'african', 'africans', 'after', 'aftermath', 'afternoon', 'afterwards', 'aftewards', 'ag', 'again', 'against', 'agassi', 'age', 'aged', 'ageing', 'agen', 'agence', 'agencies', 'agency', 'agenda', 'agent', 'agents', 'ages', 'aggarwal', 'aggravating', 'aggregate', 'aggregates', 'aggregation', 'aggregator', 'aggregators', 'aggression', 'aggressive']\n"
     ]
    }
   ],
   "source": [
    "print(terms[1500:1600])  # some sample terms from the vocabulary "
   ]
  },
  {
   "cell_type": "markdown",
   "metadata": {},
   "source": [
    "#### Checking the given word is removed from the vocabulary and that is and stopword "
   ]
  },
  {
   "cell_type": "code",
   "execution_count": 37,
   "metadata": {},
   "outputs": [
    {
     "data": {
      "text/plain": [
       "False"
      ]
     },
     "execution_count": 37,
     "metadata": {},
     "output_type": "execute_result"
    }
   ],
   "source": [
    "vectorizer = CountVectorizer(stop_words=\"english\")\n",
    "X = vectorizer.fit_transform(raw_docs)\n",
    "                                        # Are standard stopwords gone?\n",
    "\"are\" in vectorizer.vocabulary_"
   ]
  },
  {
   "cell_type": "markdown",
   "metadata": {},
   "source": [
    "### Custom Tokenizer function \n",
    "\n",
    "Here I have written the custom function called stem_tokenizer which can do the stemming of the text as well as tokenize them. It is advisable that to do tokenization first than the stemming on the corpus.\n",
    "since the nltk has the inbuilt function called countVectorizer, using which we can easly apply the stemming and tokenization  on the corpus."
   ]
  },
  {
   "cell_type": "code",
   "execution_count": 44,
   "metadata": {
    "collapsed": true
   },
   "outputs": [],
   "source": [
    "from nltk.stem.porter import PorterStemmer\n",
    "stemmer = PorterStemmer()\n",
    "import nltk\n",
    "# define the function\n",
    "def stem_tokenizer(text):\n",
    "    # use the standard scikit-learn tokenizer first\n",
    "    standard_tokenizer = CountVectorizer().build_tokenizer()\n",
    "    tokens = standard_tokenizer(text)\n",
    "    # then use NLTK to perform stemming on each token\n",
    "    stemmer = PorterStemmer()\n",
    "    stems = []\n",
    "    for token in tokens:\n",
    "        stems.append( stemmer.stem(token) )\n",
    "    return stems"
   ]
  },
  {
   "cell_type": "code",
   "execution_count": 45,
   "metadata": {},
   "outputs": [
    {
     "name": "stdout",
     "output_type": "stream",
     "text": [
      "['159', '15bn', '15m', '15mb', '15mbp', '15th', '16', '160', '160bn', '160gb', '160m', '162', '162bn', '163', '164', '1650', '165bn', '166', '166bn', '167']\n"
     ]
    }
   ],
   "source": [
    "vectorizer = CountVectorizer(tokenizer=stem_tokenizer)\n",
    "X = vectorizer.fit_transform(raw_docs)\n",
    "# display some sample terms\n",
    "terms = vectorizer.get_feature_names()\n",
    "print(terms[200:220])"
   ]
  },
  {
   "cell_type": "markdown",
   "metadata": {},
   "source": [
    "### Custom Lemmatisation function \n",
    "\n",
    "Here we can create the tokens and lemmatize the corpus as well and which gives the lematised tokens since, it is advisable to opt for the lemmatisation over the stemming as the lemmatisation gives the word to its original form so here I have used the lemmatisation over stemming  "
   ]
  },
  {
   "cell_type": "code",
   "execution_count": 46,
   "metadata": {
    "collapsed": true
   },
   "outputs": [],
   "source": [
    "# define the function\n",
    "def lemma_tokenizer(text):\n",
    "    # use the standard scikit-learn tokenizer first\n",
    "    standard_tokenizer = CountVectorizer().build_tokenizer()\n",
    "    tokens = standard_tokenizer(text)\n",
    "    # then use NLTK to perform lemmatisation on each token\n",
    "    lemmatizer = nltk.stem.WordNetLemmatizer()\n",
    "    lemma_tokens = []\n",
    "    for token in tokens:\n",
    "        lemma_tokens.append( lemmatizer.lemmatize(token) )\n",
    "    return lemma_tokens"
   ]
  },
  {
   "cell_type": "markdown",
   "metadata": {},
   "source": [
    "### Custom function for all the Text preprocessing \n",
    "\n",
    "Sine we can pass all the configuration to the CountVectorizer inbuilt function so the we can text preprocess at the same time. Here I have passed the all stemming, removing stopwords and removing less frequency words from the corpus and lemmatized the same."
   ]
  },
  {
   "cell_type": "code",
   "execution_count": 54,
   "metadata": {},
   "outputs": [
    {
     "name": "stdout",
     "output_type": "stream",
     "text": [
      "['sporting', 'industry', 'ha', 'come', 'long', 'way', '60', 'niche', 'root', 'deep', 'sport', 'showing', 'sign', 'decline', 'time', 'soon', 'later', 'reason', 'seemingly', 'difference', 'customer', 'fan', 'leader', 'ownership', 'group', 'king', 'explained', 'paint', 'face', 'ceo', 'business', 'position', 'theyâ', 'passion', 'certainly']\n"
     ]
    }
   ],
   "source": [
    "import re\n",
    "re.sub(r\"[0-9a-z]\",\"\",\"raw_docs\")         # regex for removing the numbers \n",
    "vectorizer = CountVectorizer(stop_words=\"english\",min_df = 3,tokenizer=lemma_tokenizer) #all the text processing conditions \n",
    "X = vectorizer.fit_transform(raw_docs)                                                  #together so that we can have clean\n",
    "# display some sample terms                                                             # data sets or tokens \n",
    "print(list(vectorizer.vocabulary_.keys())[0:35])"
   ]
  },
  {
   "cell_type": "markdown",
   "metadata": {},
   "source": [
    "# Part 3. Calculating the Elements for Classification "
   ]
  },
  {
   "cell_type": "markdown",
   "metadata": {},
   "source": [
    "## Term Weighting "
   ]
  },
  {
   "cell_type": "markdown",
   "metadata": {},
   "source": [
    "Since the most normal way to calculate the weighting of the terms is to calculate the term document matrix \n",
    "<br>\n",
    "we can do this by inbuilt function from sklearn TfidfVectorizer(). "
   ]
  },
  {
   "cell_type": "code",
   "execution_count": 155,
   "metadata": {},
   "outputs": [
    {
     "name": "stdout",
     "output_type": "stream",
     "text": [
      "  (0, 5472)\t0.342198418857\n",
      "  (0, 3035)\t0.27756354956\n",
      "  (0, 1262)\t0.0642449722743\n",
      "  (0, 3520)\t0.0630507021512\n",
      "  (0, 6308)\t0.0534852569449\n",
      "  (0, 3934)\t0.131609410588\n",
      "  (0, 1648)\t0.108311016524\n",
      "  (0, 5473)\t0.192502477498\n",
      "  (0, 5289)\t0.0966795717369\n",
      "  (0, 5300)\t0.094224028886\n",
      "  (0, 1642)\t0.099930741194\n",
      "  (0, 5913)\t0.0449017967911\n",
      "  (0, 5406)\t0.0856293877581\n",
      "  (0, 3366)\t0.0780632032134\n",
      "  (0, 4697)\t0.0966795717369\n",
      "  (0, 1769)\t0.1020240471\n",
      "  (0, 3034)\t0.108311016524\n",
      "  (0, 1569)\t0.0810929083695\n",
      "  (0, 2289)\t0.337376311306\n",
      "  (0, 3391)\t0.109048354775\n",
      "  (0, 4108)\t0.109048354775\n",
      "  (0, 2685)\t0.065184232789\n",
      "  (0, 3305)\t0.145239466354\n",
      "  (0, 2214)\t0.103732727141\n",
      "  (0, 2254)\t0.0757318069039\n",
      "  :\t:\n",
      "  (0, 3136)\t0.131609410588\n",
      "  (0, 5809)\t0.127081260139\n",
      "  (0, 6419)\t0.0467017013056\n",
      "  (0, 2558)\t0.130796788852\n",
      "  (0, 2074)\t0.124635018143\n",
      "  (0, 4567)\t0.0798316356417\n",
      "  (0, 5989)\t0.0923645566494\n",
      "  (0, 3737)\t0.126186447179\n",
      "  (0, 1776)\t0.0742486231456\n",
      "  (0, 4150)\t0.0958309124563\n",
      "  (0, 2799)\t0.0848494204853\n",
      "  (0, 1520)\t0.0853663812284\n",
      "  (0, 417)\t0.115023169239\n",
      "  (0, 5419)\t0.0989529000943\n",
      "  (0, 4922)\t0.0966795717369\n",
      "  (0, 1478)\t0.094224028886\n",
      "  (0, 5470)\t0.131609410588\n",
      "  (0, 265)\t0.110599783812\n",
      "  (0, 1568)\t0.109810692253\n",
      "  (0, 682)\t0.228132279238\n",
      "  (0, 5410)\t0.136121852772\n",
      "  (0, 4913)\t0.038443560567\n",
      "  (0, 534)\t0.0233987740693\n",
      "  (0, 5135)\t0.0397460556747\n",
      "  (0, 4904)\t0.0391020791311\n"
     ]
    },
    {
     "data": {
      "text/plain": [
       "array([ 0.34219842,  0.27756355,  0.06424497, ...,  0.09927267,\n",
       "        0.13738459,  0.1312654 ])"
      ]
     },
     "execution_count": 155,
     "metadata": {},
     "output_type": "execute_result"
    }
   ],
   "source": [
    "from sklearn.feature_extraction.text import TfidfVectorizer\n",
    "# we can pass in the same preprocessing parameters\n",
    "vectorizer = TfidfVectorizer(stop_words=\"english\",min_df = 5)\n",
    "X = vectorizer.fit_transform(raw_docs)\n",
    "# display some sample weighted values\n",
    "print(X[0])\n",
    "X.shape\n",
    "X.dtype\n",
    "X.data"
   ]
  },
  {
   "cell_type": "code",
   "execution_count": 156,
   "metadata": {},
   "outputs": [
    {
     "data": {
      "text/plain": [
       "(1408, 6481)"
      ]
     },
     "execution_count": 156,
     "metadata": {},
     "output_type": "execute_result"
    }
   ],
   "source": [
    "tr_data = X.toarray()   # since the matrix is in sparse  form so converting it to the array so that it can process  \n",
    "tr_data.shape "
   ]
  },
  {
   "cell_type": "markdown",
   "metadata": {},
   "source": [
    "**Getting the Category file from the csv and loading it to the pandas dataframe. since i have stored the file named as \"labelfile.csv\" and then passing the matrix variable and label to the classifier.**"
   ]
  },
  {
   "cell_type": "code",
   "execution_count": 157,
   "metadata": {},
   "outputs": [
    {
     "data": {
      "text/plain": [
       "1408"
      ]
     },
     "execution_count": 157,
     "metadata": {},
     "output_type": "execute_result"
    }
   ],
   "source": [
    "import numpy as np\n",
    "trgt_label=[]  \n",
    "file_labl = open('labelfile.csv', 'r')\n",
    "for l in file_labl:\n",
    "    trgt_label.append(l.strip())\n",
    "#print(extracted_cat)\n",
    "\n",
    "len(trgt_label)          # list having the category labels"
   ]
  },
  {
   "cell_type": "markdown",
   "metadata": {},
   "source": [
    "## Document Term Matrix \n",
    "\n",
    "The sklearn is very useful in case of the text processing and evaluating the values which are needed for the comparision \n",
    "for the various classifiers. Here I have plotted the document term matrix using the panda dataframe where I have plotted the Category labels on the ROWS and List of words on the columns."
   ]
  },
  {
   "cell_type": "code",
   "execution_count": 163,
   "metadata": {
    "scrolled": false
   },
   "outputs": [
    {
     "data": {
      "text/html": [
       "<div>\n",
       "<style>\n",
       "    .dataframe thead tr:only-child th {\n",
       "        text-align: right;\n",
       "    }\n",
       "\n",
       "    .dataframe thead th {\n",
       "        text-align: left;\n",
       "    }\n",
       "\n",
       "    .dataframe tbody tr th {\n",
       "        vertical-align: top;\n",
       "    }\n",
       "</style>\n",
       "<table border=\"1\" class=\"dataframe\">\n",
       "  <thead>\n",
       "    <tr style=\"text-align: right;\">\n",
       "      <th></th>\n",
       "      <th>000</th>\n",
       "      <th>000m</th>\n",
       "      <th>01</th>\n",
       "      <th>03</th>\n",
       "      <th>04</th>\n",
       "      <th>05</th>\n",
       "      <th>07</th>\n",
       "      <th>10</th>\n",
       "      <th>100</th>\n",
       "      <th>100m</th>\n",
       "      <th>...</th>\n",
       "      <th>yugansk</th>\n",
       "      <th>yuganskneftegas</th>\n",
       "      <th>yukos</th>\n",
       "      <th>zealand</th>\n",
       "      <th>zero</th>\n",
       "      <th>zidane</th>\n",
       "      <th>zinedine</th>\n",
       "      <th>zombies</th>\n",
       "      <th>zone</th>\n",
       "      <th>zurich</th>\n",
       "    </tr>\n",
       "  </thead>\n",
       "  <tbody>\n",
       "    <tr>\n",
       "      <th>technology</th>\n",
       "      <td>0.000000</td>\n",
       "      <td>0.0</td>\n",
       "      <td>0.0</td>\n",
       "      <td>0.000000</td>\n",
       "      <td>0.0</td>\n",
       "      <td>0.0</td>\n",
       "      <td>0.000000</td>\n",
       "      <td>0.000000</td>\n",
       "      <td>0.00000</td>\n",
       "      <td>0.0</td>\n",
       "      <td>...</td>\n",
       "      <td>0.0</td>\n",
       "      <td>0.0</td>\n",
       "      <td>0.0</td>\n",
       "      <td>0.0</td>\n",
       "      <td>0.0</td>\n",
       "      <td>0.0</td>\n",
       "      <td>0.0</td>\n",
       "      <td>0.0</td>\n",
       "      <td>0.0</td>\n",
       "      <td>0.000000</td>\n",
       "    </tr>\n",
       "    <tr>\n",
       "      <th>business</th>\n",
       "      <td>0.052708</td>\n",
       "      <td>0.0</td>\n",
       "      <td>0.0</td>\n",
       "      <td>0.064893</td>\n",
       "      <td>0.0</td>\n",
       "      <td>0.0</td>\n",
       "      <td>0.062003</td>\n",
       "      <td>0.053594</td>\n",
       "      <td>0.00000</td>\n",
       "      <td>0.0</td>\n",
       "      <td>...</td>\n",
       "      <td>0.0</td>\n",
       "      <td>0.0</td>\n",
       "      <td>0.0</td>\n",
       "      <td>0.0</td>\n",
       "      <td>0.0</td>\n",
       "      <td>0.0</td>\n",
       "      <td>0.0</td>\n",
       "      <td>0.0</td>\n",
       "      <td>0.0</td>\n",
       "      <td>0.057929</td>\n",
       "    </tr>\n",
       "    <tr>\n",
       "      <th>technology</th>\n",
       "      <td>0.026979</td>\n",
       "      <td>0.0</td>\n",
       "      <td>0.0</td>\n",
       "      <td>0.000000</td>\n",
       "      <td>0.0</td>\n",
       "      <td>0.0</td>\n",
       "      <td>0.000000</td>\n",
       "      <td>0.027433</td>\n",
       "      <td>0.00000</td>\n",
       "      <td>0.0</td>\n",
       "      <td>...</td>\n",
       "      <td>0.0</td>\n",
       "      <td>0.0</td>\n",
       "      <td>0.0</td>\n",
       "      <td>0.0</td>\n",
       "      <td>0.0</td>\n",
       "      <td>0.0</td>\n",
       "      <td>0.0</td>\n",
       "      <td>0.0</td>\n",
       "      <td>0.0</td>\n",
       "      <td>0.000000</td>\n",
       "    </tr>\n",
       "    <tr>\n",
       "      <th>business</th>\n",
       "      <td>0.032276</td>\n",
       "      <td>0.0</td>\n",
       "      <td>0.0</td>\n",
       "      <td>0.000000</td>\n",
       "      <td>0.0</td>\n",
       "      <td>0.0</td>\n",
       "      <td>0.000000</td>\n",
       "      <td>0.000000</td>\n",
       "      <td>0.04498</td>\n",
       "      <td>0.0</td>\n",
       "      <td>...</td>\n",
       "      <td>0.0</td>\n",
       "      <td>0.0</td>\n",
       "      <td>0.0</td>\n",
       "      <td>0.0</td>\n",
       "      <td>0.0</td>\n",
       "      <td>0.0</td>\n",
       "      <td>0.0</td>\n",
       "      <td>0.0</td>\n",
       "      <td>0.0</td>\n",
       "      <td>0.000000</td>\n",
       "    </tr>\n",
       "    <tr>\n",
       "      <th>sport</th>\n",
       "      <td>0.000000</td>\n",
       "      <td>0.0</td>\n",
       "      <td>0.0</td>\n",
       "      <td>0.000000</td>\n",
       "      <td>0.0</td>\n",
       "      <td>0.0</td>\n",
       "      <td>0.000000</td>\n",
       "      <td>0.000000</td>\n",
       "      <td>0.00000</td>\n",
       "      <td>0.0</td>\n",
       "      <td>...</td>\n",
       "      <td>0.0</td>\n",
       "      <td>0.0</td>\n",
       "      <td>0.0</td>\n",
       "      <td>0.0</td>\n",
       "      <td>0.0</td>\n",
       "      <td>0.0</td>\n",
       "      <td>0.0</td>\n",
       "      <td>0.0</td>\n",
       "      <td>0.0</td>\n",
       "      <td>0.000000</td>\n",
       "    </tr>\n",
       "  </tbody>\n",
       "</table>\n",
       "<p>5 rows × 6481 columns</p>\n",
       "</div>"
      ],
      "text/plain": [
       "                 000  000m   01        03   04   05        07        10  \\\n",
       "technology  0.000000   0.0  0.0  0.000000  0.0  0.0  0.000000  0.000000   \n",
       "business    0.052708   0.0  0.0  0.064893  0.0  0.0  0.062003  0.053594   \n",
       "technology  0.026979   0.0  0.0  0.000000  0.0  0.0  0.000000  0.027433   \n",
       "business    0.032276   0.0  0.0  0.000000  0.0  0.0  0.000000  0.000000   \n",
       "sport       0.000000   0.0  0.0  0.000000  0.0  0.0  0.000000  0.000000   \n",
       "\n",
       "                100  100m    ...     yugansk  yuganskneftegas  yukos  zealand  \\\n",
       "technology  0.00000   0.0    ...         0.0              0.0    0.0      0.0   \n",
       "business    0.00000   0.0    ...         0.0              0.0    0.0      0.0   \n",
       "technology  0.00000   0.0    ...         0.0              0.0    0.0      0.0   \n",
       "business    0.04498   0.0    ...         0.0              0.0    0.0      0.0   \n",
       "sport       0.00000   0.0    ...         0.0              0.0    0.0      0.0   \n",
       "\n",
       "            zero  zidane  zinedine  zombies  zone    zurich  \n",
       "technology   0.0     0.0       0.0      0.0   0.0  0.000000  \n",
       "business     0.0     0.0       0.0      0.0   0.0  0.057929  \n",
       "technology   0.0     0.0       0.0      0.0   0.0  0.000000  \n",
       "business     0.0     0.0       0.0      0.0   0.0  0.000000  \n",
       "sport        0.0     0.0       0.0      0.0   0.0  0.000000  \n",
       "\n",
       "[5 rows x 6481 columns]"
      ]
     },
     "execution_count": 163,
     "metadata": {},
     "output_type": "execute_result"
    }
   ],
   "source": [
    "from sklearn.feature_extraction.text import TfidfVectorizer\n",
    "vectorizer1 = TfidfVectorizer(stop_words=\"english\",tokenizer=lemma_tokenizer)\n",
    "X = vectorizer1.fit_transform(raw_docs)\n",
    "doc_trm_matrix = pd.DataFrame(tr_data, index = trgt_label ,columns=vectorizer.get_feature_names())\n",
    "doc_trm_matrix.head()\n"
   ]
  },
  {
   "cell_type": "markdown",
   "metadata": {},
   "source": [
    "## Classification \n",
    "\n",
    "We have the inbuilt function to split the data for training and test, the sklearn provides the function train_test_split function to split the data set provided. Below is the snippet for splitting the data in to appropriate proportion."
   ]
  },
  {
   "cell_type": "code",
   "execution_count": 164,
   "metadata": {},
   "outputs": [
    {
     "name": "stdout",
     "output_type": "stream",
     "text": [
      "Training set has 1126 examples\n",
      "Test set has 282 examples\n"
     ]
    }
   ],
   "source": [
    "from sklearn.model_selection import train_test_split\n",
    "X_raw, Y_raw = tr_data, trgt_label\n",
    "data_train, data_test, target_train, target_test = train_test_split(tr_data, trgt_label, test_size=0.2)\n",
    "print(\"Training set has %d examples\" % data_train.shape[0] )\n",
    "print(\"Test set has %d examples\" % data_test.shape[0] )\n"
   ]
  },
  {
   "cell_type": "code",
   "execution_count": 259,
   "metadata": {},
   "outputs": [
    {
     "name": "stdout",
     "output_type": "stream",
     "text": [
      "{'sport', 'technology', 'business'}\n"
     ]
    }
   ],
   "source": [
    "class_names=set(target_test)\n",
    "print(class_names)            # Making the predictions for classification which is three \n",
    "pred_results={}"
   ]
  },
  {
   "cell_type": "markdown",
   "metadata": {},
   "source": [
    "## Confusion Matrix & Accuracy\n",
    "\n",
    "Confusion matrix is used to describe the performance of the classifier to plot the confusion matrix sklearn provides the inbuilt function to plot the confusion matrix here I have plotted the matrix for evry classifier and found out the accuracy for the each classifier."
   ]
  },
  {
   "cell_type": "code",
   "execution_count": 260,
   "metadata": {
    "collapsed": true
   },
   "outputs": [],
   "source": [
    "import matplotlib.pyplot as plt\n",
    "import itertools\n",
    "from sklearn import svm, datasets\n",
    "def plot_confusion_matrix(cm, classes,normalize=False, title='Confusion matrix',cmap=plt.cm.BuPu):\n",
    "    \n",
    "    plt.imshow(cm, interpolation='nearest', cmap=cmap)\n",
    "    plt.title(title)\n",
    "    plt.colorbar()\n",
    "    tick_marks = np.arange(len(classes))\n",
    "    plt.xticks(tick_marks, classes, rotation=45)\n",
    "    plt.yticks(tick_marks, classes)\n",
    "\n",
    "    fmt = '.1f' \n",
    "    thresh = cm.max() / 2.\n",
    "    for i, j in itertools.product(range(cm.shape[0]), range(cm.shape[1])):\n",
    "        plt.text(j, i, format(cm[i, j], fmt),\n",
    "                 horizontalalignment=\"center\",\n",
    "                 color=\"white\" if cm[i, j] > thresh else \"black\")\n",
    "\n",
    "    plt.tight_layout()\n",
    "    plt.ylabel('True label')\n",
    "    plt.xlabel('Predicted label')"
   ]
  },
  {
   "cell_type": "code",
   "execution_count": 261,
   "metadata": {
    "collapsed": true
   },
   "outputs": [],
   "source": [
    "# All the important imports for the plotting the confusion matrix and calculating the accuracy \n",
    "\n",
    "from matplotlib.colors import ListedColormap\n",
    "from sklearn.preprocessing import StandardScaler\n",
    "from sklearn.datasets import make_moons, make_circles, make_classification\n",
    "from sklearn.discriminant_analysis import QuadraticDiscriminantAnalysis\n",
    "from sklearn.model_selection import cross_val_score\n",
    "from sklearn.metrics import confusion_matrix\n",
    "from sklearn.metrics import accuracy_score\n",
    "import numpy as np"
   ]
  },
  {
   "cell_type": "markdown",
   "metadata": {},
   "source": [
    "# KNN Classifier \n",
    "\n",
    "Here I have used the KNN classifier to train the data using the sklearn inbuilt classifier function. It is the simple and efective classifier, it works on the principle of finding the most similar previous examples for which the decision has already been made. \n",
    "Here we call the fit() function to build the model on training data and then we can use the predict() function on new data so that we can analyse the classifier. \n"
   ]
  },
  {
   "cell_type": "code",
   "execution_count": 262,
   "metadata": {},
   "outputs": [
    {
     "name": "stdout",
     "output_type": "stream",
     "text": [
      "KNeighborsClassifier(algorithm='auto', leaf_size=30, metric='minkowski',\n",
      "           metric_params=None, n_jobs=1, n_neighbors=3, p=2,\n",
      "           weights='uniform')\n"
     ]
    }
   ],
   "source": [
    "from sklearn.neighbors import KNeighborsClassifier\n",
    "KNN_model = KNeighborsClassifier(n_neighbors=3)\n",
    "KNN_model.fit(data_train, target_train)   # passing the training data and unseen data to model the classifier\n",
    "print(KNN_model)\n"
   ]
  },
  {
   "cell_type": "code",
   "execution_count": 263,
   "metadata": {},
   "outputs": [
    {
     "data": {
      "text/plain": [
       "array(['technology', 'business', 'business', 'sport', 'sport', 'sport',\n",
       "       'sport', 'sport', 'technology', 'technology'], \n",
       "      dtype='<U10')"
      ]
     },
     "execution_count": 263,
     "metadata": {},
     "output_type": "execute_result"
    }
   ],
   "source": [
    "predicted_knn = KNN_model.predict(data_test) # predicting the model\n",
    "predicted_knn[0:10]  # printing the predicted label sample "
   ]
  },
  {
   "cell_type": "code",
   "execution_count": 278,
   "metadata": {
    "scrolled": true
   },
   "outputs": [
    {
     "name": "stdout",
     "output_type": "stream",
     "text": [
      "Accuracy of the KNN Classifier is 0.964539\n",
      " The Classification report is as below:\n",
      "\n",
      "             precision    recall  f1-score   support\n",
      "\n",
      "   business       0.97      0.94      0.95        97\n",
      "      sport       0.98      0.98      0.98       105\n",
      " technology       0.94      0.97      0.96        80\n",
      "\n",
      "avg / total       0.96      0.96      0.96       282\n",
      "\n",
      "K-Nearest Neighbour: Mean cross-validation accuracy = 0.95\n"
     ]
    }
   ],
   "source": [
    "from sklearn import metrics\n",
    "knn_acc = metrics.accuracy_score(target_test, predicted_knn)\n",
    "print(\"Accuracy of the KNN Classifier is %f\" % knn_acc)     # calculating the accuracy normal accuracy\n",
    "\n",
    "print(\" The Classification report is as below:\\n\")\n",
    "print(metrics.classification_report(target_test, predicted_knn)) # printing the calssification report \n",
    "# calculating the mean accuracy with cross validation fold is 10 \n",
    "knn_acc_scores =  cross_val_score(KNN_model, tr_data, trgt_label, cv=10, scoring=\"accuracy\")\n",
    "print(\"K-Nearest Neighbour: Mean cross-validation accuracy = %.2f\" % knn_acc_scores.mean() )"
   ]
  },
  {
   "cell_type": "code",
   "execution_count": 275,
   "metadata": {
    "scrolled": false
   },
   "outputs": [
    {
     "data": {
      "image/png": "[encoded data removed]",
      "text/plain": [
       "<matplotlib.figure.Figure at 0x1aec2b6fe10>"
      ]
     },
     "metadata": {},
     "output_type": "display_data"
    }
   ],
   "source": [
    "# Printing the Confusion matrix for KNN classifier \n",
    "knn_cnfsn_matrix = confusion_matrix(target_test, predicted_knn)\n",
    "plt.figure()\n",
    "plot_confusion_matrix(knn_cnfsn_matrix, classes=class_names, title='Confusion matrix for K-Nearest Neighbour')\n",
    "plt.show()\n",
    "\n"
   ]
  },
  {
   "cell_type": "markdown",
   "metadata": {},
   "source": [
    "# Logistic Regression Classifier\n",
    "\n",
    "This is an appropriate regression analysis is conducted when you have the depenedent variable, this is also an predective analysis classifier. Since the Logistic Regression used to represent the relationship between one dependent variable(binary) and nominal variable.  \n"
   ]
  },
  {
   "cell_type": "code",
   "execution_count": 276,
   "metadata": {},
   "outputs": [
    {
     "name": "stdout",
     "output_type": "stream",
     "text": [
      "LogisticRegression(C=1.0, class_weight=None, dual=False, fit_intercept=True,\n",
      "          intercept_scaling=1, max_iter=100, multi_class='ovr', n_jobs=1,\n",
      "          penalty='l2', random_state=None, solver='liblinear', tol=0.0001,\n",
      "          verbose=0, warm_start=False)\n"
     ]
    }
   ],
   "source": [
    "# Training the model and passing training data.\n",
    "from sklearn.linear_model import LogisticRegression\n",
    "LogR_model = LogisticRegression()\n",
    "LogR_model.fit(data_train, target_train)\n",
    "print(LogR_model)\n"
   ]
  },
  {
   "cell_type": "code",
   "execution_count": 277,
   "metadata": {},
   "outputs": [
    {
     "data": {
      "text/plain": [
       "array(['technology', 'business', 'business', 'sport', 'sport', 'sport',\n",
       "       'sport', 'sport', 'sport', 'technology'], \n",
       "      dtype='<U10')"
      ]
     },
     "execution_count": 277,
     "metadata": {},
     "output_type": "execute_result"
    }
   ],
   "source": [
    "predicted_LogR = LogR_model.predict(data_test)\n",
    "predicted_LogR[0:10]\n",
    "# testing the trained model to predict the new data"
   ]
  },
  {
   "cell_type": "code",
   "execution_count": 279,
   "metadata": {},
   "outputs": [
    {
     "name": "stdout",
     "output_type": "stream",
     "text": [
      "Accuracy of the Logistic Regression Classifier is 0.978723\n",
      " The Classification report is as below:\n",
      "\n",
      "             precision    recall  f1-score   support\n",
      "\n",
      "   business       0.97      0.98      0.97        97\n",
      "      sport       0.98      0.99      0.99       105\n",
      " technology       0.99      0.96      0.97        80\n",
      "\n",
      "avg / total       0.98      0.98      0.98       282\n",
      "\n",
      "Logistic Regression: Mean cross-validation accuracy = 0.98\n"
     ]
    }
   ],
   "source": [
    "from sklearn import metrics\n",
    "LogR_acc = metrics.accuracy_score(target_test, predicted_LogR)\n",
    "print(\"Accuracy of the Logistic Regression Classifier is %f\" % LogR_acc) #calculating the accuracy \n",
    "\n",
    "# the calssification report is printed \n",
    "print(\" The Classification report is as below:\\n\")\n",
    "print(metrics.classification_report(target_test, predicted_LogR))\n",
    "\n",
    "# calculating the accuracy when applying the cross validation with fold=10\n",
    "logr_acc_scores =  cross_val_score(LogR_model, tr_data, trgt_label, cv=10, scoring=\"accuracy\")\n",
    "print(\"Logistic Regression: Mean cross-validation accuracy = %.2f\" % logr_acc_scores.mean() )"
   ]
  },
  {
   "cell_type": "code",
   "execution_count": 280,
   "metadata": {},
   "outputs": [
    {
     "data": {
      "image/png": "[encoded data removed]",
      "text/plain": [
       "<matplotlib.figure.Figure at 0x1aec2ca9be0>"
      ]
     },
     "metadata": {},
     "output_type": "display_data"
    }
   ],
   "source": [
    "# Printing the confusion matrix for the Logistic regression \n",
    "LogR_cnfsn_matrix = confusion_matrix(target_test, predicted_LogR)\n",
    "plt.figure()\n",
    "plot_confusion_matrix(LogR_cnfsn_matrix, classes=class_names, title=\"COnfusion matrix for Logistic Regression\")\n",
    "plt.show()\n"
   ]
  },
  {
   "cell_type": "markdown",
   "metadata": {},
   "source": [
    "# Decision Tree Classifier \n",
    "\n",
    "Decision Tree classifier is used to predict the class lables by learning the decision rules learned from the training data. The basic idea behind the decision tree is it splits the training data into subsets in which the other examples have the same labels.\n",
    "\n",
    "Splitting is done using the applied training infrred rules.\n"
   ]
  },
  {
   "cell_type": "code",
   "execution_count": 270,
   "metadata": {},
   "outputs": [
    {
     "name": "stdout",
     "output_type": "stream",
     "text": [
      "DecisionTreeClassifier(class_weight=None, criterion='gini', max_depth=None,\n",
      "            max_features=None, max_leaf_nodes=None,\n",
      "            min_impurity_split=1e-07, min_samples_leaf=1,\n",
      "            min_samples_split=2, min_weight_fraction_leaf=0.0,\n",
      "            presort=False, random_state=None, splitter='best')\n"
     ]
    }
   ],
   "source": [
    "from sklearn.tree import DecisionTreeClassifier  # by default it is gini index \n",
    "DesT_model = DecisionTreeClassifier()\n",
    "DesT_model.fit(data_train, target_train)\n",
    "print(DesT_model)"
   ]
  },
  {
   "cell_type": "code",
   "execution_count": 271,
   "metadata": {},
   "outputs": [
    {
     "data": {
      "text/plain": [
       "array(['technology', 'business', 'business', 'sport', 'sport', 'sport',\n",
       "       'sport', 'sport', 'sport', 'technology'], \n",
       "      dtype='<U10')"
      ]
     },
     "execution_count": 271,
     "metadata": {},
     "output_type": "execute_result"
    }
   ],
   "source": [
    "predicted_DesT = DesT_model.predict(data_test)\n",
    "predicted_DesT[0:10]        # building the model for decision tree classifier "
   ]
  },
  {
   "cell_type": "code",
   "execution_count": 281,
   "metadata": {},
   "outputs": [
    {
     "name": "stdout",
     "output_type": "stream",
     "text": [
      "Accuracy of the Decision Tree Classifier is 0.882979\n",
      " The Classification report is as below:\n",
      "\n",
      "             precision    recall  f1-score   support\n",
      "\n",
      "   business       0.88      0.84      0.86        97\n",
      "      sport       0.89      0.95      0.92       105\n",
      " technology       0.87      0.85      0.86        80\n",
      "\n",
      "avg / total       0.88      0.88      0.88       282\n",
      "\n",
      "Decision Tree: Mean cross-validation accuracy = 0.87\n"
     ]
    }
   ],
   "source": [
    "DesT_acc = metrics.accuracy_score(target_test, predicted_DesT)   # accuracy of the classifier\n",
    "print(\"Accuracy of the Decision Tree Classifier is %f\" % DesT_acc)\n",
    "# Classification report of the classifier \n",
    "print(\" The Classification report is as below:\\n\")\n",
    "print(metrics.classification_report(target_test, predicted_DesT))\n",
    "# accuracy of decision tree using cross validation process with fold=10\n",
    "dest_acc_scores =  cross_val_score(DesT_model, tr_data, trgt_label, cv=10, scoring=\"accuracy\")\n",
    "print(\"Decision Tree: Mean cross-validation accuracy = %.2f\" % dest_acc_scores.mean() )"
   ]
  },
  {
   "cell_type": "code",
   "execution_count": 273,
   "metadata": {},
   "outputs": [
    {
     "data": {
      "image/png": "[encoded data removed]",
      "text/plain": [
       "<matplotlib.figure.Figure at 0x1aec2962438>"
      ]
     },
     "metadata": {},
     "output_type": "display_data"
    }
   ],
   "source": [
    "# Confusion matrix \n",
    "DesT_cnfsn_matrix = confusion_matrix(target_test, predicted_DesT)\n",
    "plt.figure()\n",
    "plot_confusion_matrix(DesT_cnfsn_matrix, classes=class_names, title=\" Confusion Matrix for Decision Tress \")\n",
    "plt.show()"
   ]
  },
  {
   "cell_type": "markdown",
   "metadata": {},
   "source": [
    "# Classifier comparison\n",
    "\n",
    "###### As I have used the three classifiers for given data sets, they are K Nearest neighbor, Logistic Regression, Decision Tree classifier. when we calculate their normal accuracy we may have the chances to get some little difference to over come this problem we use the cross validation accuracy value. Here I have used the fold value is 10 for all the three classifiers and calculated the mean accuracy. "
   ]
  },
  {
   "cell_type": "code",
   "execution_count": 352,
   "metadata": {
    "collapsed": true
   },
   "outputs": [],
   "source": [
    "#accu=[(knn_acc_scores.mean()),(logr_acc_scores.mean()),(dest_acc_scores.mean())]\n",
    "accu = [0.95385890705039633, 0.97797808574404321, 0.86505632665207133]\n",
    "accu1 = [i * 100 for i in accu]\n",
    "\n",
    "label = ['KNN','Logistic','Decision']"
   ]
  },
  {
   "cell_type": "markdown",
   "metadata": {},
   "source": [
    "## Evaluation of classifiers & Conclusion\n",
    "\n",
    "First of all we have consider every parameter to evaluate the classifier, since in theoretical there is nothing like which classifier is better than others. The performance of the every classifier is depends upon the type of data we have eg. we might have categorical data or nomial data or may be numeric data, so in general case one classifier can perform well on one type of data where as same classifier may give less performance on other type of data. \n",
    "<br>\n",
    "\n",
    "In general when we discuss the performace we consider the predictablity of the classifier, or accuracy of the classifier here From the bar chart it is clear that the Logistic Regression classifier performs well compared to other two.\n",
    "<br>\n",
    "\n",
    "The reason behind this is that Logistic Regression Classifer works well woth categorical data which is multicalss catagory, the principle is same as that of binary category labels but key difference is that it considers the one category of the variable as reference category and separate other vaiables. Since its already explained the accuracy and performance is always depends on the type of data and selection of classifiers.\n",
    "\n",
    "**Conclusion :** All the classifiers are implemented and studied successfully also evaluated their respective accuracy and performance successfully."
   ]
  },
  {
   "cell_type": "code",
   "execution_count": 354,
   "metadata": {},
   "outputs": [
    {
     "data": {
      "image/png": "[encoded data removed]",
      "text/plain": [
       "<matplotlib.figure.Figure at 0x1aec26e9668>"
      ]
     },
     "metadata": {},
     "output_type": "display_data"
    }
   ],
   "source": [
    "import matplotlib.pyplot as plt\n",
    "import numpy as np                                                               \n",
    "\n",
    "index = np.arange(len(label))\n",
    "plt.bar(index, accu1)\n",
    "plt.xlabel('Classifiers', fontsize=10)\n",
    "plt.ylabel('Mean Accuracy percentage', fontsize=10)\n",
    "plt.xticks(index, label, fontsize=10)\n",
    "plt.title('Mean Accuracy of three classifiers')\n",
    "plt.show()"
   ]
  },
  {
   "cell_type": "markdown",
   "metadata": {},
   "source": [
    "## References:\n",
    "\n",
    "1. http://scikit-learn.org/stable/modules/feature_extraction.html\n",
    "2. https://github.com/susanli2016/Text-Mining-with-Python \n",
    "3. https://stackoverflow.com/\n",
    "4. http://pandas.pydata.org/pandas-docs/stable/\n",
    "5. www.datacamp.com  \n",
    "6. class Notes\n",
    "7. Lab Notebooks"
   ]
  },
  {
   "cell_type": "code",
   "execution_count": null,
   "metadata": {
    "collapsed": true
   },
   "outputs": [],
   "source": []
  }
 ],
 "metadata": {
  "kernelspec": {
   "display_name": "Python 3",
   "language": "python",
   "name": "python3"
  },
  "language_info": {
   "codemirror_mode": {
    "name": "ipython",
    "version": 3
   },
   "file_extension": ".py",
   "mimetype": "text/x-python",
   "name": "python",
   "nbconvert_exporter": "python",
   "pygments_lexer": "ipython3",
   "version": "3.6.1"
  }
 },
 "nbformat": 4,
 "nbformat_minor": 2
}
